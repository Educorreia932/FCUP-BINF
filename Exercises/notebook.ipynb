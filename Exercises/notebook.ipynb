{
 "cells": [
  {
   "cell_type": "markdown",
   "metadata": {},
   "source": [
    "Reads a value of temperature in Celsius degrees (ºC) and converts it into a temperature in\n",
    "Fahrenheit degrees (ºF): F = 32 + 9C/5."
   ]
  },
  {
   "cell_type": "code",
   "execution_count": 1,
   "metadata": {},
   "outputs": [
    {
     "data": {
      "text/plain": [
       "86.0"
      ]
     },
     "execution_count": 1,
     "metadata": {},
     "output_type": "execute_result"
    }
   ],
   "source": [
    "def celsius_to_fahrenheit(celsius):\n",
    "    return 32 + 9 * celsius / 5\n",
    "\n",
    "celsius_to_fahrenheit(30)"
   ]
  },
  {
   "cell_type": "markdown",
   "metadata": {},
   "source": [
    "Reads a string and converts it to capital letters, printing the result."
   ]
  },
  {
   "cell_type": "code",
   "execution_count": 2,
   "metadata": {},
   "outputs": [
    {
     "data": {
      "text/plain": [
       "'BIOINFORMÁTICA'"
      ]
     },
     "execution_count": 2,
     "metadata": {},
     "output_type": "execute_result"
    }
   ],
   "source": [
    "def to_uppercase(string):\n",
    "    return string.upper()\n",
    "\n",
    "to_uppercase(\"Bioinformática\")"
   ]
  },
  {
   "cell_type": "markdown",
   "metadata": {},
   "source": [
    "Adapt the previous program to read the string from a file, whose name is entered by the user."
   ]
  },
  {
   "cell_type": "code",
   "execution_count": 5,
   "metadata": {},
   "outputs": [
    {
     "data": {
      "text/plain": [
       "'BIOINFORMÁTICA'"
      ]
     },
     "execution_count": 5,
     "metadata": {},
     "output_type": "execute_result"
    }
   ],
   "source": [
    "def to_uppercase():\n",
    "    file_name = input(\"Enter the name of a text file:\")\n",
    "    f = open(file_name, \"r\", encoding=\"utf-8\")\n",
    "    \n",
    "    return f.read().upper()\n",
    "\n",
    "to_uppercase()"
   ]
  },
  {
   "cell_type": "markdown",
   "metadata": {},
   "source": [
    "Reads a string and check if it is a palindrome, i.e. if it reads the same when it is reversed.\n",
    "Implement different versions using functions over strings, and cycles (for/while)."
   ]
  },
  {
   "cell_type": "code",
   "execution_count": 8,
   "metadata": {},
   "outputs": [
    {
     "data": {
      "text/plain": [
       "True"
      ]
     },
     "execution_count": 8,
     "metadata": {},
     "output_type": "execute_result"
    }
   ],
   "source": [
    "# Using slicing\n",
    "def is_palindrome(string):\n",
    "    return string == string[::-1]\n",
    "\n",
    "is_palindrome(\"STACKCATS\")"
   ]
  },
  {
   "cell_type": "code",
   "execution_count": 9,
   "metadata": {},
   "outputs": [
    {
     "data": {
      "text/plain": [
       "True"
      ]
     },
     "execution_count": 9,
     "metadata": {},
     "output_type": "execute_result"
    }
   ],
   "source": [
    "# Using cycles\n",
    "def is_palindrome(string):\n",
    "    for i in range(len(string), 0):\n",
    "        if string[i] != string[-i]:\n",
    "            return False\n",
    "            \n",
    "    else:\n",
    "        return True\n",
    "\n",
    "is_palindrome(\"STACKCATS\")"
   ]
  },
  {
   "cell_type": "markdown",
   "metadata": {},
   "source": [
    "Reads several positive numerical values from the standard input (until a negative value is found),\n",
    "and calculates the largest and the smallest value"
   ]
  },
  {
   "cell_type": "code",
   "execution_count": 10,
   "metadata": {},
   "outputs": [
    {
     "data": {
      "text/plain": [
       "(1, 3)"
      ]
     },
     "execution_count": 10,
     "metadata": {},
     "output_type": "execute_result"
    }
   ],
   "source": [
    "def largest_and_smallest():\n",
    "    numbers = []\n",
    "\n",
    "    while (number := int(input(\"Enter a number:\"))) > 0:\n",
    "        numbers.append(number)\n",
    "\n",
    "    return min(numbers), max(numbers)\n",
    "\n",
    "largest_and_smallest()"
   ]
  },
  {
   "cell_type": "markdown",
   "metadata": {},
   "source": [
    "Read an alphanumeric string (long enough) from the input and report the frequencies of each\n",
    "symbol in the sequence."
   ]
  },
  {
   "cell_type": "code",
   "execution_count": 18,
   "metadata": {},
   "outputs": [
    {
     "data": {
      "text/plain": [
       "('TCGAGACCCGGACCGCTGTTCGCACCACATGGTTACCGGTGTGTATGCCACCGAATTGTTTGTGGTCACGCATCAATAGAGGTCCATGGAATCCAGCTCG',\n",
       " {'C': 28, 'A': 21, 'G': 27, 'T': 24})"
      ]
     },
     "execution_count": 18,
     "metadata": {},
     "output_type": "execute_result"
    }
   ],
   "source": [
    "def frequencies():\n",
    "    string = input(\"Enter an alphanumeric string:\")\n",
    "\n",
    "    return string, {character:string.count(character) for character in set(string)}\n",
    "\n",
    "frequencies()"
   ]
  },
  {
   "cell_type": "markdown",
   "metadata": {},
   "source": [
    "Given the two lower sides of a right-angled triangle calculate its hypotenuse."
   ]
  },
  {
   "cell_type": "code",
   "execution_count": 12,
   "metadata": {},
   "outputs": [
    {
     "data": {
      "text/plain": [
       "22.360679774997898"
      ]
     },
     "execution_count": 12,
     "metadata": {},
     "output_type": "execute_result"
    }
   ],
   "source": [
    "from math import sqrt\n",
    "\n",
    "def hypotenuse(a, b):\n",
    "    return sqrt(a ** 2 + b ** 2)\n",
    "\n",
    "hypotenuse(10, 20)"
   ]
  },
  {
   "cell_type": "markdown",
   "metadata": {},
   "source": [
    "Given a numeric interval defined by a lower and upper bound, calculate the sum of all integers\n",
    "included in that interval."
   ]
  },
  {
   "cell_type": "code",
   "execution_count": 13,
   "metadata": {},
   "outputs": [
    {
     "data": {
      "text/plain": [
       "55"
      ]
     },
     "execution_count": 13,
     "metadata": {},
     "output_type": "execute_result"
    }
   ],
   "source": [
    "def interval_sum(lower_bound, upper_bound):\n",
    "    return sum(range(lower_bound, upper_bound + 1))\n",
    "\n",
    "interval_sum(1, 10)"
   ]
  }
 ],
 "metadata": {
  "interpreter": {
   "hash": "63fd5069d213b44bf678585dea6b12cceca9941eaf7f819626cde1f2670de90d"
  },
  "kernelspec": {
   "display_name": "Python 3.9.7 64-bit",
   "language": "python",
   "name": "python3"
  },
  "language_info": {
   "codemirror_mode": {
    "name": "ipython",
    "version": 3
   },
   "file_extension": ".py",
   "mimetype": "text/x-python",
   "name": "python",
   "nbconvert_exporter": "python",
   "pygments_lexer": "ipython3",
   "version": "3.9.7"
  },
  "orig_nbformat": 4
 },
 "nbformat": 4,
 "nbformat_minor": 2
}
